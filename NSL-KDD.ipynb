{
 "cells": [
  {
   "cell_type": "code",
   "execution_count": 1,
   "id": "df9da492",
   "metadata": {
    "ExecuteTime": {
     "end_time": "2023-09-08T06:20:26.711524Z",
     "start_time": "2023-09-08T06:20:25.117991Z"
    }
   },
   "outputs": [],
   "source": [
    "# Import necessary libraries\n",
    "\n",
    "import pandas as pd\n",
    "import numpy as np\n",
    "import seaborn as sns\n",
    "import matplotlib.pyplot as plt\n",
    "%matplotlib inline\n",
    "import warnings\n",
    "warnings.filterwarnings('ignore')"
   ]
  },
  {
   "cell_type": "code",
   "execution_count": 2,
   "id": "8b4c6ee1",
   "metadata": {
    "ExecuteTime": {
     "end_time": "2023-09-08T06:20:27.084561Z",
     "start_time": "2023-09-08T06:20:26.711524Z"
    },
    "scrolled": false
   },
   "outputs": [],
   "source": [
    "features = [\"duration\",\"protocol_type\",\"service\",\"flag\",\"src_bytes\",\"dst_bytes\",\"land\",\"wrong_fragment\",\"urgent\",\"hot\",\n",
    "          \"num_failed_logins\",\"logged_in\",\"num_compromised\",\"root_shell\",\"su_attempted\",\"num_root\",\"num_file_creations\",\"num_shells\",\n",
    "          \"num_access_files\",\"num_outbound_cmds\",\"is_host_login\",\"is_guest_login\",\"count\",\"srv_count\",\"serror_rate\",\"srv_serror_rate\",\n",
    "          \"rerror_rate\",\"srv_rerror_rate\",\"same_srv_rate\",\"diff_srv_rate\",\"srv_diff_host_rate\",\"dst_host_count\",\"dst_host_srv_count\", \n",
    "          \"dst_host_same_srv_rate\",\"dst_host_diff_srv_rate\",\"dst_host_same_src_port_rate\",\"dst_host_srv_diff_host_rate\",\"dst_host_serror_rate\",\n",
    "          \"dst_host_srv_serror_rate\",\"dst_host_rerror_rate\",\"dst_host_srv_rerror_rate\",\"label\",\"difficulty\"]\n",
    "\n",
    "\n",
    "# Load the Dataset\n",
    "Train = pd.read_csv(r\"D:\\ExcelR\\Data Science\\Project\\Anomaly Detection in Network Security\\NSL-KDD\\KDDTrain+.txt\", names=features)\n",
    "Test = pd.read_csv(r\"D:\\ExcelR\\Data Science\\Project\\Anomaly Detection in Network Security\\NSL-KDD\\KDDTest+.txt\", names=features)"
   ]
  },
  {
   "cell_type": "code",
   "execution_count": 3,
   "id": "9ef9098e",
   "metadata": {
    "ExecuteTime": {
     "end_time": "2023-09-08T06:20:27.180794Z",
     "start_time": "2023-09-08T06:20:27.087806Z"
    }
   },
   "outputs": [
    {
     "data": {
      "text/html": [
       "<div>\n",
       "<style scoped>\n",
       "    .dataframe tbody tr th:only-of-type {\n",
       "        vertical-align: middle;\n",
       "    }\n",
       "\n",
       "    .dataframe tbody tr th {\n",
       "        vertical-align: top;\n",
       "    }\n",
       "\n",
       "    .dataframe thead th {\n",
       "        text-align: right;\n",
       "    }\n",
       "</style>\n",
       "<table border=\"1\" class=\"dataframe\">\n",
       "  <thead>\n",
       "    <tr style=\"text-align: right;\">\n",
       "      <th></th>\n",
       "      <th>duration</th>\n",
       "      <th>protocol_type</th>\n",
       "      <th>service</th>\n",
       "      <th>flag</th>\n",
       "      <th>src_bytes</th>\n",
       "      <th>dst_bytes</th>\n",
       "      <th>land</th>\n",
       "      <th>wrong_fragment</th>\n",
       "      <th>urgent</th>\n",
       "      <th>hot</th>\n",
       "      <th>...</th>\n",
       "      <th>dst_host_same_srv_rate</th>\n",
       "      <th>dst_host_diff_srv_rate</th>\n",
       "      <th>dst_host_same_src_port_rate</th>\n",
       "      <th>dst_host_srv_diff_host_rate</th>\n",
       "      <th>dst_host_serror_rate</th>\n",
       "      <th>dst_host_srv_serror_rate</th>\n",
       "      <th>dst_host_rerror_rate</th>\n",
       "      <th>dst_host_srv_rerror_rate</th>\n",
       "      <th>label</th>\n",
       "      <th>difficulty</th>\n",
       "    </tr>\n",
       "  </thead>\n",
       "  <tbody>\n",
       "    <tr>\n",
       "      <th>0</th>\n",
       "      <td>0</td>\n",
       "      <td>tcp</td>\n",
       "      <td>ftp_data</td>\n",
       "      <td>SF</td>\n",
       "      <td>491</td>\n",
       "      <td>0</td>\n",
       "      <td>0</td>\n",
       "      <td>0</td>\n",
       "      <td>0</td>\n",
       "      <td>0</td>\n",
       "      <td>...</td>\n",
       "      <td>0.17</td>\n",
       "      <td>0.03</td>\n",
       "      <td>0.17</td>\n",
       "      <td>0.00</td>\n",
       "      <td>0.00</td>\n",
       "      <td>0.00</td>\n",
       "      <td>0.05</td>\n",
       "      <td>0.00</td>\n",
       "      <td>normal</td>\n",
       "      <td>20</td>\n",
       "    </tr>\n",
       "    <tr>\n",
       "      <th>1</th>\n",
       "      <td>0</td>\n",
       "      <td>udp</td>\n",
       "      <td>other</td>\n",
       "      <td>SF</td>\n",
       "      <td>146</td>\n",
       "      <td>0</td>\n",
       "      <td>0</td>\n",
       "      <td>0</td>\n",
       "      <td>0</td>\n",
       "      <td>0</td>\n",
       "      <td>...</td>\n",
       "      <td>0.00</td>\n",
       "      <td>0.60</td>\n",
       "      <td>0.88</td>\n",
       "      <td>0.00</td>\n",
       "      <td>0.00</td>\n",
       "      <td>0.00</td>\n",
       "      <td>0.00</td>\n",
       "      <td>0.00</td>\n",
       "      <td>normal</td>\n",
       "      <td>15</td>\n",
       "    </tr>\n",
       "    <tr>\n",
       "      <th>2</th>\n",
       "      <td>0</td>\n",
       "      <td>tcp</td>\n",
       "      <td>private</td>\n",
       "      <td>S0</td>\n",
       "      <td>0</td>\n",
       "      <td>0</td>\n",
       "      <td>0</td>\n",
       "      <td>0</td>\n",
       "      <td>0</td>\n",
       "      <td>0</td>\n",
       "      <td>...</td>\n",
       "      <td>0.10</td>\n",
       "      <td>0.05</td>\n",
       "      <td>0.00</td>\n",
       "      <td>0.00</td>\n",
       "      <td>1.00</td>\n",
       "      <td>1.00</td>\n",
       "      <td>0.00</td>\n",
       "      <td>0.00</td>\n",
       "      <td>neptune</td>\n",
       "      <td>19</td>\n",
       "    </tr>\n",
       "    <tr>\n",
       "      <th>3</th>\n",
       "      <td>0</td>\n",
       "      <td>tcp</td>\n",
       "      <td>http</td>\n",
       "      <td>SF</td>\n",
       "      <td>232</td>\n",
       "      <td>8153</td>\n",
       "      <td>0</td>\n",
       "      <td>0</td>\n",
       "      <td>0</td>\n",
       "      <td>0</td>\n",
       "      <td>...</td>\n",
       "      <td>1.00</td>\n",
       "      <td>0.00</td>\n",
       "      <td>0.03</td>\n",
       "      <td>0.04</td>\n",
       "      <td>0.03</td>\n",
       "      <td>0.01</td>\n",
       "      <td>0.00</td>\n",
       "      <td>0.01</td>\n",
       "      <td>normal</td>\n",
       "      <td>21</td>\n",
       "    </tr>\n",
       "    <tr>\n",
       "      <th>4</th>\n",
       "      <td>0</td>\n",
       "      <td>tcp</td>\n",
       "      <td>http</td>\n",
       "      <td>SF</td>\n",
       "      <td>199</td>\n",
       "      <td>420</td>\n",
       "      <td>0</td>\n",
       "      <td>0</td>\n",
       "      <td>0</td>\n",
       "      <td>0</td>\n",
       "      <td>...</td>\n",
       "      <td>1.00</td>\n",
       "      <td>0.00</td>\n",
       "      <td>0.00</td>\n",
       "      <td>0.00</td>\n",
       "      <td>0.00</td>\n",
       "      <td>0.00</td>\n",
       "      <td>0.00</td>\n",
       "      <td>0.00</td>\n",
       "      <td>normal</td>\n",
       "      <td>21</td>\n",
       "    </tr>\n",
       "    <tr>\n",
       "      <th>...</th>\n",
       "      <td>...</td>\n",
       "      <td>...</td>\n",
       "      <td>...</td>\n",
       "      <td>...</td>\n",
       "      <td>...</td>\n",
       "      <td>...</td>\n",
       "      <td>...</td>\n",
       "      <td>...</td>\n",
       "      <td>...</td>\n",
       "      <td>...</td>\n",
       "      <td>...</td>\n",
       "      <td>...</td>\n",
       "      <td>...</td>\n",
       "      <td>...</td>\n",
       "      <td>...</td>\n",
       "      <td>...</td>\n",
       "      <td>...</td>\n",
       "      <td>...</td>\n",
       "      <td>...</td>\n",
       "      <td>...</td>\n",
       "      <td>...</td>\n",
       "    </tr>\n",
       "    <tr>\n",
       "      <th>148512</th>\n",
       "      <td>0</td>\n",
       "      <td>tcp</td>\n",
       "      <td>smtp</td>\n",
       "      <td>SF</td>\n",
       "      <td>794</td>\n",
       "      <td>333</td>\n",
       "      <td>0</td>\n",
       "      <td>0</td>\n",
       "      <td>0</td>\n",
       "      <td>0</td>\n",
       "      <td>...</td>\n",
       "      <td>0.72</td>\n",
       "      <td>0.06</td>\n",
       "      <td>0.01</td>\n",
       "      <td>0.01</td>\n",
       "      <td>0.01</td>\n",
       "      <td>0.00</td>\n",
       "      <td>0.00</td>\n",
       "      <td>0.00</td>\n",
       "      <td>normal</td>\n",
       "      <td>21</td>\n",
       "    </tr>\n",
       "    <tr>\n",
       "      <th>148513</th>\n",
       "      <td>0</td>\n",
       "      <td>tcp</td>\n",
       "      <td>http</td>\n",
       "      <td>SF</td>\n",
       "      <td>317</td>\n",
       "      <td>938</td>\n",
       "      <td>0</td>\n",
       "      <td>0</td>\n",
       "      <td>0</td>\n",
       "      <td>0</td>\n",
       "      <td>...</td>\n",
       "      <td>1.00</td>\n",
       "      <td>0.00</td>\n",
       "      <td>0.01</td>\n",
       "      <td>0.01</td>\n",
       "      <td>0.01</td>\n",
       "      <td>0.00</td>\n",
       "      <td>0.00</td>\n",
       "      <td>0.00</td>\n",
       "      <td>normal</td>\n",
       "      <td>21</td>\n",
       "    </tr>\n",
       "    <tr>\n",
       "      <th>148514</th>\n",
       "      <td>0</td>\n",
       "      <td>tcp</td>\n",
       "      <td>http</td>\n",
       "      <td>SF</td>\n",
       "      <td>54540</td>\n",
       "      <td>8314</td>\n",
       "      <td>0</td>\n",
       "      <td>0</td>\n",
       "      <td>0</td>\n",
       "      <td>2</td>\n",
       "      <td>...</td>\n",
       "      <td>1.00</td>\n",
       "      <td>0.00</td>\n",
       "      <td>0.00</td>\n",
       "      <td>0.00</td>\n",
       "      <td>0.00</td>\n",
       "      <td>0.00</td>\n",
       "      <td>0.07</td>\n",
       "      <td>0.07</td>\n",
       "      <td>back</td>\n",
       "      <td>15</td>\n",
       "    </tr>\n",
       "    <tr>\n",
       "      <th>148515</th>\n",
       "      <td>0</td>\n",
       "      <td>udp</td>\n",
       "      <td>domain_u</td>\n",
       "      <td>SF</td>\n",
       "      <td>42</td>\n",
       "      <td>42</td>\n",
       "      <td>0</td>\n",
       "      <td>0</td>\n",
       "      <td>0</td>\n",
       "      <td>0</td>\n",
       "      <td>...</td>\n",
       "      <td>0.99</td>\n",
       "      <td>0.01</td>\n",
       "      <td>0.00</td>\n",
       "      <td>0.00</td>\n",
       "      <td>0.00</td>\n",
       "      <td>0.00</td>\n",
       "      <td>0.00</td>\n",
       "      <td>0.00</td>\n",
       "      <td>normal</td>\n",
       "      <td>21</td>\n",
       "    </tr>\n",
       "    <tr>\n",
       "      <th>148516</th>\n",
       "      <td>0</td>\n",
       "      <td>tcp</td>\n",
       "      <td>sunrpc</td>\n",
       "      <td>REJ</td>\n",
       "      <td>0</td>\n",
       "      <td>0</td>\n",
       "      <td>0</td>\n",
       "      <td>0</td>\n",
       "      <td>0</td>\n",
       "      <td>0</td>\n",
       "      <td>...</td>\n",
       "      <td>0.08</td>\n",
       "      <td>0.03</td>\n",
       "      <td>0.00</td>\n",
       "      <td>0.00</td>\n",
       "      <td>0.00</td>\n",
       "      <td>0.00</td>\n",
       "      <td>0.44</td>\n",
       "      <td>1.00</td>\n",
       "      <td>mscan</td>\n",
       "      <td>14</td>\n",
       "    </tr>\n",
       "  </tbody>\n",
       "</table>\n",
       "<p>148517 rows × 43 columns</p>\n",
       "</div>"
      ],
      "text/plain": [
       "        duration protocol_type   service flag  src_bytes  dst_bytes  land  \\\n",
       "0              0           tcp  ftp_data   SF        491          0     0   \n",
       "1              0           udp     other   SF        146          0     0   \n",
       "2              0           tcp   private   S0          0          0     0   \n",
       "3              0           tcp      http   SF        232       8153     0   \n",
       "4              0           tcp      http   SF        199        420     0   \n",
       "...          ...           ...       ...  ...        ...        ...   ...   \n",
       "148512         0           tcp      smtp   SF        794        333     0   \n",
       "148513         0           tcp      http   SF        317        938     0   \n",
       "148514         0           tcp      http   SF      54540       8314     0   \n",
       "148515         0           udp  domain_u   SF         42         42     0   \n",
       "148516         0           tcp    sunrpc  REJ          0          0     0   \n",
       "\n",
       "        wrong_fragment  urgent  hot  ...  dst_host_same_srv_rate  \\\n",
       "0                    0       0    0  ...                    0.17   \n",
       "1                    0       0    0  ...                    0.00   \n",
       "2                    0       0    0  ...                    0.10   \n",
       "3                    0       0    0  ...                    1.00   \n",
       "4                    0       0    0  ...                    1.00   \n",
       "...                ...     ...  ...  ...                     ...   \n",
       "148512               0       0    0  ...                    0.72   \n",
       "148513               0       0    0  ...                    1.00   \n",
       "148514               0       0    2  ...                    1.00   \n",
       "148515               0       0    0  ...                    0.99   \n",
       "148516               0       0    0  ...                    0.08   \n",
       "\n",
       "        dst_host_diff_srv_rate  dst_host_same_src_port_rate  \\\n",
       "0                         0.03                         0.17   \n",
       "1                         0.60                         0.88   \n",
       "2                         0.05                         0.00   \n",
       "3                         0.00                         0.03   \n",
       "4                         0.00                         0.00   \n",
       "...                        ...                          ...   \n",
       "148512                    0.06                         0.01   \n",
       "148513                    0.00                         0.01   \n",
       "148514                    0.00                         0.00   \n",
       "148515                    0.01                         0.00   \n",
       "148516                    0.03                         0.00   \n",
       "\n",
       "        dst_host_srv_diff_host_rate  dst_host_serror_rate  \\\n",
       "0                              0.00                  0.00   \n",
       "1                              0.00                  0.00   \n",
       "2                              0.00                  1.00   \n",
       "3                              0.04                  0.03   \n",
       "4                              0.00                  0.00   \n",
       "...                             ...                   ...   \n",
       "148512                         0.01                  0.01   \n",
       "148513                         0.01                  0.01   \n",
       "148514                         0.00                  0.00   \n",
       "148515                         0.00                  0.00   \n",
       "148516                         0.00                  0.00   \n",
       "\n",
       "        dst_host_srv_serror_rate  dst_host_rerror_rate  \\\n",
       "0                           0.00                  0.05   \n",
       "1                           0.00                  0.00   \n",
       "2                           1.00                  0.00   \n",
       "3                           0.01                  0.00   \n",
       "4                           0.00                  0.00   \n",
       "...                          ...                   ...   \n",
       "148512                      0.00                  0.00   \n",
       "148513                      0.00                  0.00   \n",
       "148514                      0.00                  0.07   \n",
       "148515                      0.00                  0.00   \n",
       "148516                      0.00                  0.44   \n",
       "\n",
       "        dst_host_srv_rerror_rate    label  difficulty  \n",
       "0                           0.00   normal          20  \n",
       "1                           0.00   normal          15  \n",
       "2                           0.00  neptune          19  \n",
       "3                           0.01   normal          21  \n",
       "4                           0.00   normal          21  \n",
       "...                          ...      ...         ...  \n",
       "148512                      0.00   normal          21  \n",
       "148513                      0.00   normal          21  \n",
       "148514                      0.07     back          15  \n",
       "148515                      0.00   normal          21  \n",
       "148516                      1.00    mscan          14  \n",
       "\n",
       "[148517 rows x 43 columns]"
      ]
     },
     "execution_count": 3,
     "metadata": {},
     "output_type": "execute_result"
    }
   ],
   "source": [
    "df = pd.concat([Train, Test], axis=0)\n",
    "df.reset_index(drop=True, inplace=True)\n",
    "df"
   ]
  },
  {
   "cell_type": "code",
   "execution_count": 4,
   "id": "0b09a59a",
   "metadata": {
    "ExecuteTime": {
     "end_time": "2023-09-08T06:20:27.200158Z",
     "start_time": "2023-09-08T06:20:27.184731Z"
    }
   },
   "outputs": [
    {
     "data": {
      "text/plain": [
       "array(['normal', 'neptune', 'warezclient', 'ipsweep', 'portsweep',\n",
       "       'teardrop', 'nmap', 'satan', 'smurf', 'pod', 'back',\n",
       "       'guess_passwd', 'ftp_write', 'multihop', 'rootkit',\n",
       "       'buffer_overflow', 'imap', 'warezmaster', 'phf', 'land',\n",
       "       'loadmodule', 'spy', 'perl', 'saint', 'mscan', 'apache2',\n",
       "       'snmpgetattack', 'processtable', 'httptunnel', 'ps', 'snmpguess',\n",
       "       'mailbomb', 'named', 'sendmail', 'xterm', 'worm', 'xlock',\n",
       "       'xsnoop', 'sqlattack', 'udpstorm'], dtype=object)"
      ]
     },
     "execution_count": 4,
     "metadata": {},
     "output_type": "execute_result"
    }
   ],
   "source": [
    "df['label'].unique()"
   ]
  },
  {
   "cell_type": "code",
   "execution_count": 5,
   "id": "b94e2c4e",
   "metadata": {
    "ExecuteTime": {
     "end_time": "2023-09-08T06:20:27.383637Z",
     "start_time": "2023-09-08T06:20:27.200158Z"
    }
   },
   "outputs": [
    {
     "data": {
      "text/plain": [
       "array(['0', '1'], dtype=object)"
      ]
     },
     "execution_count": 5,
     "metadata": {},
     "output_type": "execute_result"
    }
   ],
   "source": [
    "unique_values = df['label'].unique()\n",
    "label_mapping = {label: '0' if label == 'normal' else '1' for label in unique_values}\n",
    "df['label'] = df['label'].replace(label_mapping)\n",
    "df['label'].unique()"
   ]
  },
  {
   "cell_type": "code",
   "execution_count": 6,
   "id": "3dd15468",
   "metadata": {
    "ExecuteTime": {
     "end_time": "2023-09-08T06:20:27.396832Z",
     "start_time": "2023-09-08T06:20:27.385109Z"
    }
   },
   "outputs": [
    {
     "data": {
      "text/plain": [
       "array(['tcp', 'udp', 'icmp'], dtype=object)"
      ]
     },
     "execution_count": 6,
     "metadata": {},
     "output_type": "execute_result"
    }
   ],
   "source": [
    "df['protocol_type'].unique()"
   ]
  },
  {
   "cell_type": "code",
   "execution_count": 7,
   "id": "9c123e7a",
   "metadata": {
    "ExecuteTime": {
     "end_time": "2023-09-08T06:20:27.409805Z",
     "start_time": "2023-09-08T06:20:27.396832Z"
    }
   },
   "outputs": [
    {
     "data": {
      "text/plain": [
       "array(['ftp_data', 'other', 'private', 'http', 'remote_job', 'name',\n",
       "       'netbios_ns', 'eco_i', 'mtp', 'telnet', 'finger', 'domain_u',\n",
       "       'supdup', 'uucp_path', 'Z39_50', 'smtp', 'csnet_ns', 'uucp',\n",
       "       'netbios_dgm', 'urp_i', 'auth', 'domain', 'ftp', 'bgp', 'ldap',\n",
       "       'ecr_i', 'gopher', 'vmnet', 'systat', 'http_443', 'efs', 'whois',\n",
       "       'imap4', 'iso_tsap', 'echo', 'klogin', 'link', 'sunrpc', 'login',\n",
       "       'kshell', 'sql_net', 'time', 'hostnames', 'exec', 'ntp_u',\n",
       "       'discard', 'nntp', 'courier', 'ctf', 'ssh', 'daytime', 'shell',\n",
       "       'netstat', 'pop_3', 'nnsp', 'IRC', 'pop_2', 'printer', 'tim_i',\n",
       "       'pm_dump', 'red_i', 'netbios_ssn', 'rje', 'X11', 'urh_i',\n",
       "       'http_8001', 'aol', 'http_2784', 'tftp_u', 'harvest'], dtype=object)"
      ]
     },
     "execution_count": 7,
     "metadata": {},
     "output_type": "execute_result"
    }
   ],
   "source": [
    "df['service'].unique()"
   ]
  },
  {
   "cell_type": "code",
   "execution_count": 8,
   "id": "fc5dc0e2",
   "metadata": {
    "ExecuteTime": {
     "end_time": "2023-09-08T06:20:27.424260Z",
     "start_time": "2023-09-08T06:20:27.409805Z"
    }
   },
   "outputs": [
    {
     "data": {
      "text/plain": [
       "array(['SF', 'S0', 'REJ', 'RSTR', 'SH', 'RSTO', 'S1', 'RSTOS0', 'S3',\n",
       "       'S2', 'OTH'], dtype=object)"
      ]
     },
     "execution_count": 8,
     "metadata": {},
     "output_type": "execute_result"
    }
   ],
   "source": [
    "df['flag'].unique()"
   ]
  },
  {
   "cell_type": "code",
   "execution_count": 9,
   "id": "27b9cb68",
   "metadata": {
    "ExecuteTime": {
     "end_time": "2023-09-08T06:20:27.741095Z",
     "start_time": "2023-09-08T06:20:27.424260Z"
    }
   },
   "outputs": [],
   "source": [
    "from sklearn.preprocessing import LabelEncoder\n",
    "\n",
    "#For Training Data\n",
    "le = LabelEncoder()\n",
    "df['protocol_type'] = le.fit_transform(df['protocol_type'])\n",
    "df['service'] = le.fit_transform(df['service'])\n",
    "df['flag'] = le.fit_transform(df['flag'])\n",
    "df['label'] = df['label'].astype(int)"
   ]
  },
  {
   "cell_type": "code",
   "execution_count": 10,
   "id": "84143f1b",
   "metadata": {
    "ExecuteTime": {
     "end_time": "2023-09-08T06:20:27.761601Z",
     "start_time": "2023-09-08T06:20:27.745607Z"
    },
    "scrolled": true
   },
   "outputs": [
    {
     "data": {
      "text/plain": [
       "<bound method NDFrame._add_numeric_operations.<locals>.all of duration                       0\n",
       "protocol_type                  0\n",
       "service                        0\n",
       "flag                           0\n",
       "src_bytes                      0\n",
       "dst_bytes                      0\n",
       "land                           0\n",
       "wrong_fragment                 0\n",
       "urgent                         0\n",
       "hot                            0\n",
       "num_failed_logins              0\n",
       "logged_in                      0\n",
       "num_compromised                0\n",
       "root_shell                     0\n",
       "su_attempted                   0\n",
       "num_root                       0\n",
       "num_file_creations             0\n",
       "num_shells                     0\n",
       "num_access_files               0\n",
       "num_outbound_cmds              0\n",
       "is_host_login                  0\n",
       "is_guest_login                 0\n",
       "count                          0\n",
       "srv_count                      0\n",
       "serror_rate                    0\n",
       "srv_serror_rate                0\n",
       "rerror_rate                    0\n",
       "srv_rerror_rate                0\n",
       "same_srv_rate                  0\n",
       "diff_srv_rate                  0\n",
       "srv_diff_host_rate             0\n",
       "dst_host_count                 0\n",
       "dst_host_srv_count             0\n",
       "dst_host_same_srv_rate         0\n",
       "dst_host_diff_srv_rate         0\n",
       "dst_host_same_src_port_rate    0\n",
       "dst_host_srv_diff_host_rate    0\n",
       "dst_host_serror_rate           0\n",
       "dst_host_srv_serror_rate       0\n",
       "dst_host_rerror_rate           0\n",
       "dst_host_srv_rerror_rate       0\n",
       "label                          0\n",
       "difficulty                     0\n",
       "dtype: int64>"
      ]
     },
     "execution_count": 10,
     "metadata": {},
     "output_type": "execute_result"
    }
   ],
   "source": [
    "df.isna().sum().all"
   ]
  },
  {
   "cell_type": "code",
   "execution_count": 11,
   "id": "8374909e",
   "metadata": {
    "ExecuteTime": {
     "end_time": "2023-09-08T06:20:28.761586Z",
     "start_time": "2023-09-08T06:20:27.761601Z"
    },
    "scrolled": true
   },
   "outputs": [
    {
     "name": "stdout",
     "output_type": "stream",
     "text": [
      "The data in 'duration' does not follow a normal distribution.\n",
      "The data in 'protocol_type' does not follow a normal distribution.\n",
      "The data in 'service' does not follow a normal distribution.\n",
      "The data in 'flag' does not follow a normal distribution.\n",
      "The data in 'src_bytes' does not follow a normal distribution.\n",
      "The data in 'dst_bytes' does not follow a normal distribution.\n",
      "The data in 'land' does not follow a normal distribution.\n",
      "The data in 'wrong_fragment' does not follow a normal distribution.\n",
      "The data in 'urgent' does not follow a normal distribution.\n",
      "The data in 'hot' does not follow a normal distribution.\n",
      "The data in 'num_failed_logins' does not follow a normal distribution.\n",
      "The data in 'logged_in' does not follow a normal distribution.\n",
      "The data in 'num_compromised' does not follow a normal distribution.\n",
      "The data in 'root_shell' does not follow a normal distribution.\n",
      "The data in 'su_attempted' does not follow a normal distribution.\n",
      "The data in 'num_root' does not follow a normal distribution.\n",
      "The data in 'num_file_creations' does not follow a normal distribution.\n",
      "The data in 'num_shells' does not follow a normal distribution.\n",
      "The data in 'num_access_files' does not follow a normal distribution.\n",
      "The data in 'num_outbound_cmds' appears to be normally distributed.\n",
      "The data in 'is_host_login' does not follow a normal distribution.\n",
      "The data in 'is_guest_login' does not follow a normal distribution.\n",
      "The data in 'count' does not follow a normal distribution.\n",
      "The data in 'srv_count' does not follow a normal distribution.\n",
      "The data in 'serror_rate' does not follow a normal distribution.\n",
      "The data in 'srv_serror_rate' does not follow a normal distribution.\n",
      "The data in 'rerror_rate' does not follow a normal distribution.\n",
      "The data in 'srv_rerror_rate' does not follow a normal distribution.\n",
      "The data in 'same_srv_rate' does not follow a normal distribution.\n",
      "The data in 'diff_srv_rate' does not follow a normal distribution.\n",
      "The data in 'srv_diff_host_rate' does not follow a normal distribution.\n",
      "The data in 'dst_host_count' does not follow a normal distribution.\n",
      "The data in 'dst_host_srv_count' does not follow a normal distribution.\n",
      "The data in 'dst_host_same_srv_rate' does not follow a normal distribution.\n",
      "The data in 'dst_host_diff_srv_rate' does not follow a normal distribution.\n",
      "The data in 'dst_host_same_src_port_rate' does not follow a normal distribution.\n",
      "The data in 'dst_host_srv_diff_host_rate' does not follow a normal distribution.\n",
      "The data in 'dst_host_serror_rate' does not follow a normal distribution.\n",
      "The data in 'dst_host_srv_serror_rate' does not follow a normal distribution.\n",
      "The data in 'dst_host_rerror_rate' does not follow a normal distribution.\n",
      "The data in 'dst_host_srv_rerror_rate' does not follow a normal distribution.\n",
      "The data in 'label' does not follow a normal distribution.\n",
      "The data in 'difficulty' does not follow a normal distribution.\n"
     ]
    }
   ],
   "source": [
    "from scipy import stats\n",
    "\n",
    "for column_name in df.columns:\n",
    "    column_data = df[column_name].values\n",
    "    result = stats.anderson(column_data, dist='norm')\n",
    "\n",
    "    # Anderson-Darling statistic (result.statistic)\n",
    "    if result.statistic > result.critical_values[2]:\n",
    "        print(f\"The data in '{column_name}' does not follow a normal distribution.\")\n",
    "    else:\n",
    "        print(f\"The data in '{column_name}' appears to be normally distributed.\")"
   ]
  },
  {
   "cell_type": "code",
   "execution_count": 12,
   "id": "7424d3b8",
   "metadata": {
    "ExecuteTime": {
     "end_time": "2023-09-08T06:20:28.922642Z",
     "start_time": "2023-09-08T06:20:28.761586Z"
    }
   },
   "outputs": [],
   "source": [
    "#Splitting the data (Traning & Testing)\n",
    "\n",
    "x = df.drop(columns='label')\n",
    "y = df['label']\n",
    "\n",
    "from sklearn.model_selection import train_test_split\n",
    "xtrain, xtest, ytrain, ytest = train_test_split(x,y, test_size=0.2, random_state=42)"
   ]
  },
  {
   "cell_type": "markdown",
   "id": "cebf2c78",
   "metadata": {},
   "source": [
    "# Model Building"
   ]
  },
  {
   "cell_type": "markdown",
   "id": "16d3abbd",
   "metadata": {},
   "source": [
    "#### (1) Decision Tree Classifier"
   ]
  },
  {
   "cell_type": "code",
   "execution_count": 13,
   "id": "0b8c4706",
   "metadata": {
    "ExecuteTime": {
     "end_time": "2023-09-08T06:20:29.868203Z",
     "start_time": "2023-09-08T06:20:28.922642Z"
    }
   },
   "outputs": [],
   "source": [
    "from sklearn.tree import DecisionTreeClassifier\n",
    "\n",
    "dtc = DecisionTreeClassifier()\n",
    "dtc.fit(xtrain, ytrain)\n",
    "dtc_pred = dtc.predict(xtest)"
   ]
  },
  {
   "cell_type": "code",
   "execution_count": 14,
   "id": "9af968ba",
   "metadata": {
    "ExecuteTime": {
     "end_time": "2023-09-08T06:20:29.967771Z",
     "start_time": "2023-09-08T06:20:29.870221Z"
    }
   },
   "outputs": [
    {
     "name": "stdout",
     "output_type": "stream",
     "text": [
      "Training Accuracy : 1.0\n",
      "Testing Accuracy : 0.9980137355238352\n",
      "Classification Report :               precision    recall  f1-score   support\n",
      "\n",
      "           0       1.00      1.00      1.00     15450\n",
      "           1       1.00      1.00      1.00     14254\n",
      "\n",
      "    accuracy                           1.00     29704\n",
      "   macro avg       1.00      1.00      1.00     29704\n",
      "weighted avg       1.00      1.00      1.00     29704\n",
      "\n"
     ]
    }
   ],
   "source": [
    "from sklearn.metrics import classification_report\n",
    "\n",
    "print(f\"Training Accuracy :\", dtc.score(xtrain, ytrain))\n",
    "print(f\"Testing Accuracy :\", dtc.score(xtest, ytest))\n",
    "print(f\"Classification Report :\", classification_report(ytest, dtc_pred))"
   ]
  },
  {
   "cell_type": "markdown",
   "id": "f2fdff8f",
   "metadata": {},
   "source": [
    "#### (2) Random Forest Classifier"
   ]
  },
  {
   "cell_type": "code",
   "execution_count": 15,
   "id": "e55eac4f",
   "metadata": {
    "ExecuteTime": {
     "end_time": "2023-09-08T06:20:39.144544Z",
     "start_time": "2023-09-08T06:20:29.967771Z"
    }
   },
   "outputs": [],
   "source": [
    "from sklearn.ensemble import RandomForestClassifier\n",
    "\n",
    "rfc = RandomForestClassifier()\n",
    "rfc.fit(xtrain, ytrain)\n",
    "pred_rfc = rfc.predict(xtest)"
   ]
  },
  {
   "cell_type": "code",
   "execution_count": 16,
   "id": "ca7a8a16",
   "metadata": {
    "ExecuteTime": {
     "end_time": "2023-09-08T06:20:40.709954Z",
     "start_time": "2023-09-08T06:20:39.144544Z"
    }
   },
   "outputs": [
    {
     "name": "stdout",
     "output_type": "stream",
     "text": [
      "Training Accuracy : 1.0\n",
      "Testing Accuracy : 0.9994276865068678\n",
      "Classification Report :               precision    recall  f1-score   support\n",
      "\n",
      "           0       1.00      1.00      1.00     15450\n",
      "           1       1.00      1.00      1.00     14254\n",
      "\n",
      "    accuracy                           1.00     29704\n",
      "   macro avg       1.00      1.00      1.00     29704\n",
      "weighted avg       1.00      1.00      1.00     29704\n",
      "\n"
     ]
    }
   ],
   "source": [
    "print(f\"Training Accuracy :\", rfc.score(xtrain, ytrain))\n",
    "print(f\"Testing Accuracy :\", rfc.score(xtest, ytest))\n",
    "print(f\"Classification Report :\", classification_report(ytest, pred_rfc))"
   ]
  },
  {
   "cell_type": "markdown",
   "id": "e6a11f4d",
   "metadata": {},
   "source": [
    "### (3) Bagging Classifier"
   ]
  },
  {
   "cell_type": "code",
   "execution_count": 17,
   "id": "ef200244",
   "metadata": {
    "ExecuteTime": {
     "end_time": "2023-09-08T06:20:46.011925Z",
     "start_time": "2023-09-08T06:20:40.711419Z"
    }
   },
   "outputs": [],
   "source": [
    "from sklearn.ensemble import BaggingClassifier\n",
    "\n",
    "bc = BaggingClassifier(estimator=dtc)\n",
    "bc.fit(xtrain, ytrain)\n",
    "pred_bc = bc.predict(xtest)"
   ]
  },
  {
   "cell_type": "code",
   "execution_count": 18,
   "id": "9ed8756b",
   "metadata": {
    "ExecuteTime": {
     "end_time": "2023-09-08T06:20:46.517576Z",
     "start_time": "2023-09-08T06:20:46.011925Z"
    }
   },
   "outputs": [
    {
     "name": "stdout",
     "output_type": "stream",
     "text": [
      "Training Accuracy : 0.9999747502377686\n",
      "Testing Accuracy : 0.9984850525181793\n",
      "Classification Report :               precision    recall  f1-score   support\n",
      "\n",
      "           0       1.00      1.00      1.00     15450\n",
      "           1       1.00      1.00      1.00     14254\n",
      "\n",
      "    accuracy                           1.00     29704\n",
      "   macro avg       1.00      1.00      1.00     29704\n",
      "weighted avg       1.00      1.00      1.00     29704\n",
      "\n"
     ]
    }
   ],
   "source": [
    "print(f\"Training Accuracy :\", bc.score(xtrain, ytrain))\n",
    "print(f\"Testing Accuracy :\", bc.score(xtest, ytest))\n",
    "print(f\"Classification Report :\", classification_report(ytest, pred_bc))"
   ]
  },
  {
   "cell_type": "markdown",
   "id": "60e1b8ff",
   "metadata": {},
   "source": [
    "### (4) Logistic Regression"
   ]
  },
  {
   "cell_type": "code",
   "execution_count": 19,
   "id": "d0fd50a9",
   "metadata": {
    "ExecuteTime": {
     "end_time": "2023-09-08T06:20:46.715327Z",
     "start_time": "2023-09-08T06:20:46.518911Z"
    }
   },
   "outputs": [],
   "source": [
    "from sklearn.preprocessing import MinMaxScaler\n",
    "\n",
    "x2 = df.drop(columns='label')\n",
    "y2 = df['label']\n",
    "\n",
    "mms = MinMaxScaler()\n",
    "x2 = mms.fit_transform(x2.drop(columns=['protocol_type', 'service', 'flag']))\n",
    "\n",
    "x2train, x2test, y2train, y2test = train_test_split(x2,y2, test_size=0.2, random_state=42)"
   ]
  },
  {
   "cell_type": "code",
   "execution_count": 20,
   "id": "e770d7ca",
   "metadata": {
    "ExecuteTime": {
     "end_time": "2023-09-08T06:20:47.863880Z",
     "start_time": "2023-09-08T06:20:46.715327Z"
    }
   },
   "outputs": [],
   "source": [
    "from sklearn.linear_model import LogisticRegression\n",
    "\n",
    "lgr = LogisticRegression()\n",
    "lgr.fit(x2train, y2train)\n",
    "lgr_pred = lgr.predict(x2test)"
   ]
  },
  {
   "cell_type": "code",
   "execution_count": 21,
   "id": "e2cb98c0",
   "metadata": {
    "ExecuteTime": {
     "end_time": "2023-09-08T06:20:47.940104Z",
     "start_time": "2023-09-08T06:20:47.863880Z"
    }
   },
   "outputs": [
    {
     "name": "stdout",
     "output_type": "stream",
     "text": [
      "Training Accuracy : 0.9607702860798061\n",
      "Testing Accuracy : 0.9595677349851872\n",
      "Classification Report :               precision    recall  f1-score   support\n",
      "\n",
      "           0       0.96      0.96      0.96     15450\n",
      "           1       0.96      0.96      0.96     14254\n",
      "\n",
      "    accuracy                           0.96     29704\n",
      "   macro avg       0.96      0.96      0.96     29704\n",
      "weighted avg       0.96      0.96      0.96     29704\n",
      "\n"
     ]
    }
   ],
   "source": [
    "from sklearn.metrics import classification_report\n",
    "\n",
    "print(f\"Training Accuracy :\", lgr.score(x2train, y2train))\n",
    "print(f\"Testing Accuracy :\", lgr.score(x2test, y2test))\n",
    "print(f\"Classification Report :\", classification_report(y2test, lgr_pred))"
   ]
  },
  {
   "cell_type": "markdown",
   "id": "8eae036f",
   "metadata": {},
   "source": [
    "### AdaBoost Classifier"
   ]
  },
  {
   "cell_type": "code",
   "execution_count": 22,
   "id": "351c4b3b",
   "metadata": {
    "ExecuteTime": {
     "end_time": "2023-09-08T06:21:33.321398Z",
     "start_time": "2023-09-08T06:20:47.940104Z"
    }
   },
   "outputs": [],
   "source": [
    "from sklearn.ensemble import AdaBoostClassifier\n",
    "\n",
    "abc = AdaBoostClassifier(estimator=dtc, learning_rate=0.001)\n",
    "abc.fit(x2train, y2train)\n",
    "abc_pred = abc.predict(x2test)"
   ]
  },
  {
   "cell_type": "code",
   "execution_count": 23,
   "id": "cf2f3323",
   "metadata": {
    "ExecuteTime": {
     "end_time": "2023-09-08T06:21:35.013313Z",
     "start_time": "2023-09-08T06:21:33.321398Z"
    }
   },
   "outputs": [
    {
     "name": "stdout",
     "output_type": "stream",
     "text": [
      "Training Accuracy : 0.9999242507133058\n",
      "Testing Accuracy : 0.9972730945327228\n",
      "Classification Report :               precision    recall  f1-score   support\n",
      "\n",
      "           0       1.00      1.00      1.00     15450\n",
      "           1       1.00      1.00      1.00     14254\n",
      "\n",
      "    accuracy                           1.00     29704\n",
      "   macro avg       1.00      1.00      1.00     29704\n",
      "weighted avg       1.00      1.00      1.00     29704\n",
      "\n"
     ]
    }
   ],
   "source": [
    "print(f\"Training Accuracy :\", abc.score(x2train, y2train))\n",
    "print(f\"Testing Accuracy :\", abc.score(x2test, y2test))\n",
    "print(f\"Classification Report :\", classification_report(y2test, abc_pred))"
   ]
  },
  {
   "cell_type": "markdown",
   "id": "f840c03a",
   "metadata": {},
   "source": [
    "### Gradient Boosting Classifier"
   ]
  },
  {
   "cell_type": "code",
   "execution_count": 24,
   "id": "adaf13b5",
   "metadata": {
    "ExecuteTime": {
     "end_time": "2023-09-08T06:22:02.093714Z",
     "start_time": "2023-09-08T06:21:35.016364Z"
    }
   },
   "outputs": [],
   "source": [
    "from sklearn.ensemble import GradientBoostingClassifier\n",
    "\n",
    "gbc = GradientBoostingClassifier()\n",
    "gbc.fit(x2train, y2train)\n",
    "gbc_pred = gbc.predict(x2test)"
   ]
  },
  {
   "cell_type": "code",
   "execution_count": 25,
   "id": "519cd2b9",
   "metadata": {
    "ExecuteTime": {
     "end_time": "2023-09-08T06:22:02.365343Z",
     "start_time": "2023-09-08T06:22:02.093714Z"
    }
   },
   "outputs": [
    {
     "name": "stdout",
     "output_type": "stream",
     "text": [
      "Training Accuracy : 0.9887301894573826\n",
      "Testing Accuracy : 0.9888567196337193\n",
      "Classification Report :               precision    recall  f1-score   support\n",
      "\n",
      "           0       0.99      0.99      0.99     15450\n",
      "           1       0.98      0.99      0.99     14254\n",
      "\n",
      "    accuracy                           0.99     29704\n",
      "   macro avg       0.99      0.99      0.99     29704\n",
      "weighted avg       0.99      0.99      0.99     29704\n",
      "\n"
     ]
    }
   ],
   "source": [
    "print(f\"Training Accuracy :\", gbc.score(x2train, y2train))\n",
    "print(f\"Testing Accuracy :\", gbc.score(x2test, y2test))\n",
    "print(f\"Classification Report :\", classification_report(y2test, gbc_pred))"
   ]
  },
  {
   "cell_type": "markdown",
   "id": "bc02d9bd",
   "metadata": {},
   "source": [
    "### Extreme Gradient Boosting Classifier"
   ]
  },
  {
   "cell_type": "code",
   "execution_count": 26,
   "id": "78b16b12",
   "metadata": {
    "ExecuteTime": {
     "end_time": "2023-09-08T06:22:06.431647Z",
     "start_time": "2023-09-08T06:22:02.365343Z"
    }
   },
   "outputs": [],
   "source": [
    "from xgboost import XGBClassifier\n",
    "\n",
    "xgbc = XGBClassifier()\n",
    "xgbc.fit(x2train, y2train)\n",
    "xgbc_pred = xgbc.predict(x2test)"
   ]
  },
  {
   "cell_type": "code",
   "execution_count": 27,
   "id": "707de8b6",
   "metadata": {
    "ExecuteTime": {
     "end_time": "2023-09-08T06:22:06.584547Z",
     "start_time": "2023-09-08T06:22:06.431647Z"
    }
   },
   "outputs": [
    {
     "name": "stdout",
     "output_type": "stream",
     "text": [
      "Training Accuracy : 0.9999663336503581\n",
      "Testing Accuracy : 0.9989563695125235\n",
      "Classification Report :               precision    recall  f1-score   support\n",
      "\n",
      "           0       1.00      1.00      1.00     15450\n",
      "           1       1.00      1.00      1.00     14254\n",
      "\n",
      "    accuracy                           1.00     29704\n",
      "   macro avg       1.00      1.00      1.00     29704\n",
      "weighted avg       1.00      1.00      1.00     29704\n",
      "\n"
     ]
    }
   ],
   "source": [
    "print(f\"Training Accuracy :\", xgbc.score(x2train, y2train))\n",
    "print(f\"Testing Accuracy :\", xgbc.score(x2test, y2test))\n",
    "print(f\"Classification Report :\", classification_report(y2test, xgbc_pred))"
   ]
  },
  {
   "cell_type": "markdown",
   "id": "05e19658",
   "metadata": {},
   "source": [
    "### Support Vector Classifier"
   ]
  },
  {
   "cell_type": "code",
   "execution_count": 28,
   "id": "1e712252",
   "metadata": {
    "ExecuteTime": {
     "end_time": "2023-09-08T06:23:56.824635Z",
     "start_time": "2023-09-08T06:22:06.584547Z"
    }
   },
   "outputs": [],
   "source": [
    "from sklearn.svm import SVC\n",
    "\n",
    "svc = SVC()\n",
    "svc.fit(x2train, y2train)\n",
    "svc_pred = svc.predict(x2test)"
   ]
  },
  {
   "cell_type": "code",
   "execution_count": 29,
   "id": "b96b039a",
   "metadata": {
    "ExecuteTime": {
     "end_time": "2023-09-08T06:26:28.597922Z",
     "start_time": "2023-09-08T06:23:56.824635Z"
    }
   },
   "outputs": [
    {
     "name": "stdout",
     "output_type": "stream",
     "text": [
      "Training Accuracy : 0.9898580121703854\n",
      "Testing Accuracy : 0.9890250471316995\n",
      "Classification Report :               precision    recall  f1-score   support\n",
      "\n",
      "           0       1.00      0.98      0.99     15450\n",
      "           1       0.98      1.00      0.99     14254\n",
      "\n",
      "    accuracy                           0.99     29704\n",
      "   macro avg       0.99      0.99      0.99     29704\n",
      "weighted avg       0.99      0.99      0.99     29704\n",
      "\n"
     ]
    }
   ],
   "source": [
    "print(f\"Training Accuracy :\", svc.score(x2train, y2train))\n",
    "print(f\"Testing Accuracy :\", svc.score(x2test, y2test))\n",
    "print(f\"Classification Report :\", classification_report(y2test, svc_pred))"
   ]
  },
  {
   "cell_type": "markdown",
   "id": "f82a01cb",
   "metadata": {},
   "source": [
    "### K-Nearest Neighbors Classifier"
   ]
  },
  {
   "cell_type": "code",
   "execution_count": 30,
   "id": "60fd6c48",
   "metadata": {
    "ExecuteTime": {
     "end_time": "2023-09-08T06:26:32.592977Z",
     "start_time": "2023-09-08T06:26:28.599549Z"
    }
   },
   "outputs": [],
   "source": [
    "from sklearn.neighbors import KNeighborsClassifier\n",
    "\n",
    "knnc = KNeighborsClassifier()\n",
    "knnc.fit(x2train, y2train)\n",
    "knnc_pred = knnc.predict(x2test)"
   ]
  },
  {
   "cell_type": "code",
   "execution_count": 31,
   "id": "1e8685ed",
   "metadata": {
    "ExecuteTime": {
     "end_time": "2023-09-08T06:26:50.717551Z",
     "start_time": "2023-09-08T06:26:32.592977Z"
    }
   },
   "outputs": [
    {
     "name": "stdout",
     "output_type": "stream",
     "text": [
      "Training Accuracy : 0.9978874365599724\n",
      "Testing Accuracy : 0.9967344465391866\n",
      "Classification Report :               precision    recall  f1-score   support\n",
      "\n",
      "           0       1.00      1.00      1.00     15450\n",
      "           1       1.00      1.00      1.00     14254\n",
      "\n",
      "    accuracy                           1.00     29704\n",
      "   macro avg       1.00      1.00      1.00     29704\n",
      "weighted avg       1.00      1.00      1.00     29704\n",
      "\n"
     ]
    }
   ],
   "source": [
    "print(f\"Training Accuracy :\", knnc.score(x2train, y2train))\n",
    "print(f\"Testing Accuracy :\", knnc.score(x2test, y2test))\n",
    "print(f\"Classification Report :\", classification_report(y2test, knnc_pred))"
   ]
  },
  {
   "cell_type": "code",
   "execution_count": 37,
   "id": "6401e137",
   "metadata": {
    "ExecuteTime": {
     "end_time": "2023-09-08T06:35:30.763689Z",
     "start_time": "2023-09-08T06:35:30.754439Z"
    }
   },
   "outputs": [],
   "source": [
    "#Comparing the results\n",
    "    \n",
    "Result_Table = {\n",
    "            \"Models\" : [\n",
    "                \"Decission Tree Classifier\",\n",
    "                \"Random Forest Classifier\",\n",
    "                \"Bagging Classifier\",\n",
    "                \"Logistic Regression\",\n",
    "                \"AdaBoost Classifier\",\n",
    "                \"Gradient Boosting Classifier\",\n",
    "                \"Extreme Gradient Boosting Classifier\",\n",
    "                \"Support Vector Classifier\",\n",
    "                \"K-Nearest Neighbours Classifier\"\n",
    "            ],\n",
    "                \n",
    "            \"Accuracy_Sore\" : [\n",
    "                \"1.0\",\"1.0\",\"1.0\",\"0.96\",\"1.0\",\"0.99\",\"1.0\",\"0.99\",\"1.0\"]  \n",
    "}"
   ]
  },
  {
   "cell_type": "code",
   "execution_count": 38,
   "id": "45a18917",
   "metadata": {
    "ExecuteTime": {
     "end_time": "2023-09-08T06:35:31.614374Z",
     "start_time": "2023-09-08T06:35:31.597801Z"
    }
   },
   "outputs": [
    {
     "data": {
      "text/html": [
       "<div>\n",
       "<style scoped>\n",
       "    .dataframe tbody tr th:only-of-type {\n",
       "        vertical-align: middle;\n",
       "    }\n",
       "\n",
       "    .dataframe tbody tr th {\n",
       "        vertical-align: top;\n",
       "    }\n",
       "\n",
       "    .dataframe thead th {\n",
       "        text-align: right;\n",
       "    }\n",
       "</style>\n",
       "<table border=\"1\" class=\"dataframe\">\n",
       "  <thead>\n",
       "    <tr style=\"text-align: right;\">\n",
       "      <th></th>\n",
       "      <th>Models</th>\n",
       "      <th>Accuracy_Sore</th>\n",
       "    </tr>\n",
       "  </thead>\n",
       "  <tbody>\n",
       "    <tr>\n",
       "      <th>0</th>\n",
       "      <td>Decission Tree Classifier</td>\n",
       "      <td>1.0</td>\n",
       "    </tr>\n",
       "    <tr>\n",
       "      <th>1</th>\n",
       "      <td>Random Forest Classifier</td>\n",
       "      <td>1.0</td>\n",
       "    </tr>\n",
       "    <tr>\n",
       "      <th>2</th>\n",
       "      <td>Bagging Classifier</td>\n",
       "      <td>1.0</td>\n",
       "    </tr>\n",
       "    <tr>\n",
       "      <th>3</th>\n",
       "      <td>Logistic Regression</td>\n",
       "      <td>0.96</td>\n",
       "    </tr>\n",
       "    <tr>\n",
       "      <th>4</th>\n",
       "      <td>AdaBoost Classifier</td>\n",
       "      <td>1.0</td>\n",
       "    </tr>\n",
       "    <tr>\n",
       "      <th>5</th>\n",
       "      <td>Gradient Boosting Classifier</td>\n",
       "      <td>0.99</td>\n",
       "    </tr>\n",
       "    <tr>\n",
       "      <th>6</th>\n",
       "      <td>Extreme Gradient Boosting Classifier</td>\n",
       "      <td>1.0</td>\n",
       "    </tr>\n",
       "    <tr>\n",
       "      <th>7</th>\n",
       "      <td>Support Vector Classifier</td>\n",
       "      <td>0.99</td>\n",
       "    </tr>\n",
       "    <tr>\n",
       "      <th>8</th>\n",
       "      <td>K-Nearest Neighbours Classifier</td>\n",
       "      <td>1.0</td>\n",
       "    </tr>\n",
       "  </tbody>\n",
       "</table>\n",
       "</div>"
      ],
      "text/plain": [
       "                                 Models Accuracy_Sore\n",
       "0             Decission Tree Classifier           1.0\n",
       "1              Random Forest Classifier           1.0\n",
       "2                    Bagging Classifier           1.0\n",
       "3                   Logistic Regression          0.96\n",
       "4                   AdaBoost Classifier           1.0\n",
       "5          Gradient Boosting Classifier          0.99\n",
       "6  Extreme Gradient Boosting Classifier           1.0\n",
       "7             Support Vector Classifier          0.99\n",
       "8       K-Nearest Neighbours Classifier           1.0"
      ]
     },
     "execution_count": 38,
     "metadata": {},
     "output_type": "execute_result"
    }
   ],
   "source": [
    "Result_Table = pd.DataFrame(Result_Table)\n",
    "Result_Table"
   ]
  },
  {
   "cell_type": "code",
   "execution_count": null,
   "id": "b6a14be7",
   "metadata": {},
   "outputs": [],
   "source": []
  }
 ],
 "metadata": {
  "kernelspec": {
   "display_name": "Python 3 (ipykernel)",
   "language": "python",
   "name": "python3"
  },
  "language_info": {
   "codemirror_mode": {
    "name": "ipython",
    "version": 3
   },
   "file_extension": ".py",
   "mimetype": "text/x-python",
   "name": "python",
   "nbconvert_exporter": "python",
   "pygments_lexer": "ipython3",
   "version": "3.11.4"
  }
 },
 "nbformat": 4,
 "nbformat_minor": 5
}
